{
  "nbformat": 4,
  "nbformat_minor": 0,
  "metadata": {
    "colab": {
      "name": "PythonZumbis.ipynb",
      "version": "0.3.2",
      "provenance": [],
      "collapsed_sections": [
        "S8Y2WI6AIDkK"
      ],
      "include_colab_link": true
    },
    "kernelspec": {
      "name": "python3",
      "display_name": "Python 3"
    }
  },
  "cells": [
    {
      "cell_type": "markdown",
      "metadata": {
        "id": "view-in-github",
        "colab_type": "text"
      },
      "source": [
        "<a href=\"https://colab.research.google.com/github/VickAndressaDev/Data-Science-Marathon/blob/master/PythonZumbis.ipynb\" target=\"_parent\"><img src=\"https://colab.research.google.com/assets/colab-badge.svg\" alt=\"Open In Colab\"/></a>"
      ]
    },
    {
      "metadata": {
        "id": "S8Y2WI6AIDkK",
        "colab_type": "text"
      },
      "cell_type": "markdown",
      "source": [
        "# Começando o básico \n",
        "\n",
        "### Python para zumbis \n",
        "\n",
        "* Hello World ✓\n",
        "* Declarando nossas primeiras variáveis ✓\n",
        "* Variáveis e Modo Edição ✓\n",
        "* Operadores Relacionais e lógicos ✓\n",
        "* Imprimindo nossos dados na tela ✓\n",
        "* Marcadores ✓\n",
        "* Entendendo conceitos sobre linguagem dinamica e tipagem forte ✓\n",
        "* Teste de Mesa ou Simulação ✓\n",
        "* Entrada de Dados ✓"
      ]
    },
    {
      "metadata": {
        "id": "reEsLZfJICB0",
        "colab_type": "code",
        "colab": {
          "base_uri": "https://localhost:8080/",
          "height": 54
        },
        "outputId": "75516ae1-9675-45af-f91b-d5112fecef12"
      },
      "cell_type": "code",
      "source": [
        "print(\"Hello Zumbis\")\n",
        "\n",
        "# dir ('Victoria') #saber o que fazer como objeto\n",
        "# help('Victoria'.upper) #Acesso a parte da documentação\n",
        "\n",
        "#------------------------------------------------------#\n",
        "\n",
        "# nota = 7\n",
        "# faltas = 30\n",
        "# nota >=6 and faltas <= 20 #and ambas devem ser verdadeiras\n",
        "# print('A nota do aluno é', nota, 'e as faltas são', faltas)\n",
        "# print('A nota do aluno é %d' %nota) #com o marcador %\n",
        "\n",
        "# pi = 3.1415\n",
        "# print('O numero de pi é %.2f' %pi)\n",
        "\n",
        "#------------------------------------------------------#\n",
        "\n",
        "# num = 34\n",
        "# print(num + 'mamão') #Não pode, pois são de tipos diferentes\n",
        "# str(num)+'mamão' #fazer a conversão \n",
        "\n",
        "#------------------------------------------------------#\n",
        "\n",
        "# nome = input('Digite o seu nome:') #str\n",
        "\n",
        "# n1 = int(input('Digite o primeiro número:')) #int\n",
        "# n2 = float(input('Digite o segundo número:')) #float or int\n",
        "\n",
        "# print('A soma dos números é igual a', n1 + n2)\n",
        "\n",
        "#---------Quantos dígitos tem 2**1000000 --------------#\n",
        "\n",
        "numero = 2**1000000\n",
        "len(str(numero)) #Conta quantos caracteres tem na operaçao"
      ],
      "execution_count": 10,
      "outputs": [
        {
          "output_type": "stream",
          "text": [
            "Hello Zumbis\n"
          ],
          "name": "stdout"
        },
        {
          "output_type": "execute_result",
          "data": {
            "text/plain": [
              "301030"
            ]
          },
          "metadata": {
            "tags": []
          },
          "execution_count": 10
        }
      ]
    },
    {
      "metadata": {
        "id": "fATnt8zySJqX",
        "colab_type": "text"
      },
      "cell_type": "markdown",
      "source": [
        "# Mastigando estruturas de Controle\n",
        "\n",
        "* Repetições \n",
        "*  Inteiros até um fim \n",
        "*  Pares com módulo \n",
        "* Acumuladores \n",
        "* Média de 10 números inteiros \n",
        "* Fatorial e Break \n",
        "*  Repetições aninhadas\n",
        "\n",
        "### Exercícios \n",
        "* Maior de três inteiro \n",
        "* Exercício das latas de tinta"
      ]
    },
    {
      "metadata": {
        "id": "0ZZzvMVgSw8B",
        "colab_type": "code",
        "colab": {}
      },
      "cell_type": "code",
      "source": [
        ""
      ],
      "execution_count": 0,
      "outputs": []
    }
  ]
}