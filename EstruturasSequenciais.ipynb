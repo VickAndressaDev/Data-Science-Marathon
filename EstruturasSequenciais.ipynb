{
  "nbformat": 4,
  "nbformat_minor": 0,
  "metadata": {
    "colab": {
      "name": "Copy of WeekOne.ipynb",
      "version": "0.3.2",
      "provenance": [],
      "collapsed_sections": [],
      "include_colab_link": true
    },
    "kernelspec": {
      "name": "python3",
      "display_name": "Python 3"
    }
  },
  "cells": [
    {
      "cell_type": "markdown",
      "metadata": {
        "id": "view-in-github",
        "colab_type": "text"
      },
      "source": [
        "<a href=\"https://colab.research.google.com/github/VickAndressaDev/Data-Science-Marathon/blob/master/EstruturasSequenciais.ipynb\" target=\"_parent\"><img src=\"https://colab.research.google.com/assets/colab-badge.svg\" alt=\"Open In Colab\"/></a>"
      ]
    },
    {
      "metadata": {
        "id": "qEDOvggh9hpa",
        "colab_type": "text"
      },
      "cell_type": "markdown",
      "source": [
        " # Estrutura Sequencial"
      ]
    },
    {
      "metadata": {
        "id": "65ym0mPvcncn",
        "colab_type": "code",
        "outputId": "e9ced91d-6e28-49bb-a19d-4135ee6b529d",
        "colab": {
          "base_uri": "https://localhost:8080/",
          "height": 34
        }
      },
      "cell_type": "code",
      "source": [
        "import math\n",
        "\n",
        "#1\n",
        "# print(\"Alô Mundo!\")\n",
        "\n",
        "#2\n",
        "# num = input(\"Informe um número: \")\n",
        "# print(\"O número informado foi: {:.2f} \".format(float(num)))\n",
        "\n",
        "#3\n",
        "# num1 = input(\"Escreva o primeiro número: \")\n",
        "# num2 = input(\"Escreva o segundo número: \")\n",
        "# print(float(num1)+ float(num2))\n",
        "#  ----- ou podemos fazer no mesmo print\n",
        "# num1, num2 = input(\"Escreva dois número separados por espaço \\n\").split() \n",
        "# print(float(num1)+float(num2))\n",
        "\n",
        "#4\n",
        "# nota1, nota2, nota3, nota4 = input(\"Escreva as 4 notas dos alunos, separadas por espaço \\n\").split(\" \",4) \n",
        "# print((float(nota1)+float(nota2)+float(nota3)+float(nota4))/4)\n",
        "\n",
        "#5 \n",
        "# metro = float(input(\"Insira o valor do metro\"))\n",
        "# print(float(metro)*100)\n",
        "\n",
        "#6\n",
        "# raio = float(input(\"Informe o raio do círculo\"))\n",
        "# area = math.pi * math.pow(raio,2)\n",
        "# print(\"area = {:.2f}cm²\".format(area))\n",
        "\n",
        "#7\n",
        "# lado = float(input(\"Digite um lado do quadrado: \"))\n",
        "# print(\"A área é {:.2f}\\nO dobro da área é {:.2f}\".format(lado*lado, lado*lado*2))\n",
        "\n",
        "#8\n",
        "# salarioHora = float(input(\"Digite seu sálario/hora: \"))\n",
        "# horaTrabalhada = float(input(\"Digite suas horas trabalhadas: \"))\n",
        "# print(\"Seu salário será de {:.2f}\".format(salarioHora * horaTrabalhada))\n",
        "\n",
        "#9\n",
        "# f = float(input(\"Digite a temperatura em Fahrenheit: \"))\n",
        "# c = (5 * (f-32) / 9)\n",
        "# print(\"São {:.2f}°C\".format(c))\n",
        "\n",
        "#10\n",
        "# c = float(input(\"Digite a temperatura em Graus Celsius, vulgo C°: \"))\n",
        "# f = (c * 9/5) + 32\n",
        "# print(\"São {:.2f}°F\".format(f))\n",
        "\n",
        "# --------- Rascunhos -----------\n",
        "# a = 1\n",
        "# b = 2\n",
        "\n",
        "# r = a + b\n",
        "# print(r)\n",
        "# print(type(r)) #tipo da variavel\n",
        "\n",
        "\n",
        "def metodoTeste(x):\n",
        "  return math.sqrt(x*x), math.pow(x, 2)\n",
        "\n",
        "y = metodoTeste(14)\n",
        "print(y)\n"
      ],
      "execution_count": 0,
      "outputs": [
        {
          "output_type": "stream",
          "text": [
            "(14.0, 196.0)\n"
          ],
          "name": "stdout"
        }
      ]
    }
  ]
}